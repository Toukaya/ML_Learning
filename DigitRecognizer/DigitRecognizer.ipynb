{
 "cells": [
  {
   "metadata": {
    "id": "99f4b74f34f73417"
   },
   "cell_type": "markdown",
   "source": [
    "# Import packages"
   ],
   "id": "99f4b74f34f73417"
  },
  {
   "metadata": {
    "id": "922534c72c5cbb61",
    "ExecuteTime": {
     "end_time": "2024-04-29T16:39:56.204427Z",
     "start_time": "2024-04-29T16:39:56.197941Z"
    }
   },
   "cell_type": "code",
   "source": [
    "import numpy as np\n",
    "import matplotlib.pyplot as plt\n",
    "import matplotlib.image as mpimg\n",
    "%matplotlib inline"
   ],
   "id": "922534c72c5cbb61",
   "outputs": [],
   "execution_count": 681
  },
  {
   "metadata": {
    "id": "6f63c6f40ca57b98",
    "ExecuteTime": {
     "end_time": "2024-04-29T16:39:56.235695Z",
     "start_time": "2024-04-29T16:39:56.233229Z"
    }
   },
   "cell_type": "code",
   "source": [
    "import torch\n",
    "from torch import nn\n",
    "import torch.nn.functional as F\n",
    "import torch.optim as optim\n",
    "from torch.utils.data import DataLoader\n",
    "from torchvision import transforms\n",
    "from torchvision.datasets import MNIST\n",
    "from torch.optim.lr_scheduler import StepLR\n",
    "from torch.utils.data import Subset"
   ],
   "id": "6f63c6f40ca57b98",
   "outputs": [],
   "execution_count": 682
  },
  {
   "metadata": {
    "id": "83cc7c5b339722eb"
   },
   "cell_type": "markdown",
   "source": [
    "# Configurations"
   ],
   "id": "83cc7c5b339722eb"
  },
  {
   "metadata": {
    "id": "5a6a987db92ee014",
    "ExecuteTime": {
     "end_time": "2024-04-29T16:39:56.245524Z",
     "start_time": "2024-04-29T16:39:56.242351Z"
    }
   },
   "cell_type": "code",
   "source": [
    "device = torch.device(\"cuda\" if torch.cuda.is_available() else \"mps\" if torch.backends.mps.is_available() else \"cpu\")\n",
    "config = {\n",
    "    \"batch_size\": 16,\n",
    "    \"test_batch_size\": 1000,\n",
    "    \"epochs\": 14,\n",
    "    \"lr\": 1.0, # Learning rate\n",
    "    \"gamma\": 0.7, # Learning rate step gamma\n",
    "    \"dry_run\": False,\n",
    "    \"seed\": 1,\n",
    "    \"log_interval\": 20,\n",
    "    \"data_dir\": \"./data\",\n",
    "    \"subset_size\": 500\n",
    "}"
   ],
   "id": "5a6a987db92ee014",
   "outputs": [],
   "execution_count": 683
  },
  {
   "metadata": {
    "id": "df5d47a0c235dac5"
   },
   "cell_type": "markdown",
   "source": [
    "# Import and Preprocessing Dataset"
   ],
   "id": "df5d47a0c235dac5"
  },
  {
   "metadata": {
    "id": "9afbd482c88c842a",
    "ExecuteTime": {
     "end_time": "2024-04-29T16:39:56.281950Z",
     "start_time": "2024-04-29T16:39:56.247601Z"
    }
   },
   "cell_type": "code",
   "source": [
    "transform = transforms.Compose([\n",
    "    transforms.ToTensor(),\n",
    "    transforms.Normalize((0.1307,), (0.3081,))\n",
    "])\n",
    "\n",
    "train_set = MNIST(root = './data', train = True, download = True, transform = transform)\n",
    "test_set = MNIST(root = './data', train = False, download = False, transform = transform)"
   ],
   "id": "9afbd482c88c842a",
   "outputs": [],
   "execution_count": 684
  },
  {
   "metadata": {
    "id": "256598afe9d931b6"
   },
   "cell_type": "markdown",
   "source": [
    "# Nerual Network Definition"
   ],
   "id": "256598afe9d931b6"
  },
  {
   "metadata": {
    "id": "b27914fa22a18391",
    "ExecuteTime": {
     "end_time": "2024-04-29T16:39:56.294996Z",
     "start_time": "2024-04-29T16:39:56.285310Z"
    }
   },
   "cell_type": "code",
   "source": [
    "class Net(nn.Module):\n",
    "    def __init__(self):\n",
    "        super().__init__()\n",
    "        self.conv1_layers = nn.Sequential(\n",
    "            nn.Conv2d(1, 64, 5, 1),\n",
    "            nn.LeakyReLU(0.1),\n",
    "            nn.BatchNorm2d(64),\n",
    "            nn.Conv2d(64, 64, 5, 1),\n",
    "            nn.LeakyReLU(0.1),\n",
    "            nn.BatchNorm2d(64),\n",
    "            nn.MaxPool2d(2),\n",
    "            nn.Dropout(0.25),\n",
    "        )\n",
    "        self.conv2_layers = nn.Sequential(\n",
    "            nn.Conv2d(64, 128, 3, 1),\n",
    "            nn.LeakyReLU(0.1),\n",
    "            nn.BatchNorm2d(128),\n",
    "            nn.Conv2d(128, 128, 3, 1),\n",
    "            nn.LeakyReLU(0.1),\n",
    "            nn.BatchNorm2d(128),\n",
    "            nn.MaxPool2d(2),\n",
    "            nn.Dropout(0.25),\n",
    "        )\n",
    "        self.fc_layers = nn.Sequential(\n",
    "            nn.Flatten(),\n",
    "            nn.Linear(1152, 256),\n",
    "            nn.ReLU(),\n",
    "            nn.Dropout(0.5),\n",
    "            nn.Linear(256, 10),\n",
    "            nn.LogSoftmax(dim=1)\n",
    "        )\n",
    "\n",
    "    def forward(self, x):\n",
    "        x = self.conv1_layers(x)\n",
    "        x = self.conv2_layers(x)\n",
    "        return self.fc_layers(x)"
   ],
   "id": "b27914fa22a18391",
   "outputs": [],
   "execution_count": 685
  },
  {
   "metadata": {
    "id": "924beb35b3aea83b"
   },
   "cell_type": "markdown",
   "source": [
    "# Training and Testing"
   ],
   "id": "924beb35b3aea83b"
  },
  {
   "metadata": {
    "id": "e297d80d3d1b1d90",
    "ExecuteTime": {
     "end_time": "2024-04-29T16:39:56.303886Z",
     "start_time": "2024-04-29T16:39:56.298104Z"
    }
   },
   "cell_type": "code",
   "source": [
    "def train(args, model, device, train_loader, optimizer, epoch):\n",
    "    model.train()\n",
    "    for batch_idx, (data, target) in enumerate(train_loader):\n",
    "        data, target = data.to(device), target.to(device)\n",
    "        optimizer.zero_grad()\n",
    "        output = model(data)\n",
    "        loss = F.nll_loss(output, target)\n",
    "        loss.backward()\n",
    "        optimizer.step()\n",
    "        if batch_idx % args['log_interval'] == 0:\n",
    "            print('Train Epoch: {} [{}/{} ({:.0f}%)]\\tLoss: {:.6f}'.format(\n",
    "                epoch, batch_idx * len(data), len(train_loader.dataset),\n",
    "                100. * batch_idx / len(train_loader), loss.item()))\n",
    "            if args['dry_run']:\n",
    "                break"
   ],
   "id": "e297d80d3d1b1d90",
   "outputs": [],
   "execution_count": 686
  },
  {
   "metadata": {
    "id": "8b2a226a206e6236",
    "ExecuteTime": {
     "end_time": "2024-04-29T16:39:56.316552Z",
     "start_time": "2024-04-29T16:39:56.310237Z"
    }
   },
   "cell_type": "code",
   "source": [
    "def test(model, device, test_loader):\n",
    "    model.eval()\n",
    "    test_loss = 0\n",
    "    correct = 0\n",
    "    with torch.no_grad():\n",
    "        for data, target in test_loader:\n",
    "            data, target = data.to(device), target.to(device)\n",
    "            output = model(data)\n",
    "            test_loss += F.nll_loss(output, target, reduction='sum').item()  # sum up batch loss\n",
    "            pred = output.argmax(dim=1, keepdim=True)  # get the index of the max log-probability\n",
    "            correct += pred.eq(target.view_as(pred)).sum().item()\n",
    "\n",
    "    test_loss /= len(test_loader.dataset)\n",
    "\n",
    "    print('\\nTest set: Average loss: {:.4f}, Accuracy: {}/{} ({:.0f}%)\\n'.format(\n",
    "        test_loss, correct, len(test_loader.dataset),\n",
    "        100. * correct / len(test_loader.dataset)))"
   ],
   "id": "8b2a226a206e6236",
   "outputs": [],
   "execution_count": 687
  },
  {
   "metadata": {
    "id": "3f7095a32d0c2611"
   },
   "cell_type": "markdown",
   "source": [
    "# KPI1: Use 500 training samples."
   ],
   "id": "3f7095a32d0c2611"
  },
  {
   "metadata": {
    "id": "45a571ed7593ed40"
   },
   "cell_type": "markdown",
   "source": [
    "## Randomly select 500 samples"
   ],
   "id": "45a571ed7593ed40"
  },
  {
   "metadata": {
    "id": "a9f89bb5c48661df",
    "ExecuteTime": {
     "end_time": "2024-04-29T16:39:56.324864Z",
     "start_time": "2024-04-29T16:39:56.321880Z"
    }
   },
   "cell_type": "code",
   "source": [
    "def get_balanced_subset_indices(targets, num_classes, num_per_class):\n",
    "    indices = []\n",
    "    for i in range(num_classes):\n",
    "        class_indices = (targets == i).nonzero(as_tuple=True)[0]\n",
    "        random_indices = np.random.choice(class_indices, num_per_class, replace=False)\n",
    "        indices.extend(random_indices)\n",
    "    return indices"
   ],
   "id": "a9f89bb5c48661df",
   "outputs": [],
   "execution_count": 688
  },
  {
   "metadata": {
    "id": "a17d33afda45ecf",
    "ExecuteTime": {
     "end_time": "2024-04-29T16:39:56.337629Z",
     "start_time": "2024-04-29T16:39:56.327933Z"
    }
   },
   "cell_type": "code",
   "source": [
    "num_classes = 10\n",
    "num_per_class = 50\n",
    "\n",
    "train_indices = get_balanced_subset_indices(train_set.targets, num_classes, num_per_class)\n",
    "\n",
    "train_subset = Subset(train_set, train_indices)"
   ],
   "id": "a17d33afda45ecf",
   "outputs": [],
   "execution_count": 689
  },
  {
   "metadata": {
    "id": "e1a9a0100c81d740",
    "ExecuteTime": {
     "end_time": "2024-04-29T16:39:56.348819Z",
     "start_time": "2024-04-29T16:39:56.346571Z"
    }
   },
   "cell_type": "code",
   "source": [
    "# rows = 5\n",
    "# fig, axes = plt.subplots(rows, 10, figsize=(10 ,rows))\n",
    "\n",
    "# for i in range (10):\n",
    "#     ds  = [x for x, y in train_subset if y == i]\n",
    "#     for j in range(rows):\n",
    "#         ax = axes[j,i]\n",
    "#         ax.imshow(ds[j][0].numpy().reshape(28,28), cmap='gray')\n",
    "#         ax.axis('off')\n",
    "\n",
    "# plt.show()"
   ],
   "id": "e1a9a0100c81d740",
   "outputs": [],
   "execution_count": 690
  },
  {
   "metadata": {
    "id": "3129d3eff16de5ce",
    "ExecuteTime": {
     "end_time": "2024-04-29T16:39:56.374583Z",
     "start_time": "2024-04-29T16:39:56.369723Z"
    }
   },
   "cell_type": "code",
   "source": [
    "train_kwargs = {'batch_size': config['batch_size']}\n",
    "test_kwargs = {'batch_size': config['test_batch_size']}\n",
    "if torch.cuda.is_available():\n",
    "    cuda_kwargs = {'num_workers': 1,\n",
    "                   'pin_memory': True,\n",
    "                   'shuffle': True}\n",
    "    train_kwargs.update(cuda_kwargs)\n",
    "    test_kwargs.update(cuda_kwargs)\n",
    "\n",
    "train_loader = DataLoader(train_set, **train_kwargs)\n",
    "subset_train_loader = DataLoader(train_subset, **train_kwargs)\n",
    "test_loader = DataLoader(test_set, **test_kwargs)"
   ],
   "id": "3129d3eff16de5ce",
   "outputs": [],
   "execution_count": 691
  },
  {
   "metadata": {
    "id": "d719fb3d72a40cb1",
    "ExecuteTime": {
     "end_time": "2024-04-29T16:39:56.379681Z",
     "start_time": "2024-04-29T16:39:56.376207Z"
    }
   },
   "cell_type": "code",
   "source": [
    "def train_and_test_model(train_loader):\n",
    "    model = Net().to(device)\n",
    "    optimizer = optim.Adadelta(model.parameters(), lr=config['lr'])\n",
    "\n",
    "    scheduler = StepLR(optimizer, step_size=1, gamma=config['gamma'])\n",
    "    for epoch in range(1, config['epochs'] + 1):\n",
    "        train(config, model, device, train_loader, optimizer, epoch)\n",
    "        test(model, device, test_loader)\n",
    "        scheduler.step()"
   ],
   "id": "d719fb3d72a40cb1",
   "outputs": [],
   "execution_count": 692
  },
  {
   "metadata": {
    "colab": {
     "base_uri": "https://localhost:8080/"
    },
    "id": "b6b7ad8ca85feb3c",
    "outputId": "e9c9c4e5-5c08-4aac-d5fe-0ad330b3f7fe",
    "ExecuteTime": {
     "end_time": "2024-04-29T16:40:22.584486Z",
     "start_time": "2024-04-29T16:39:56.383458Z"
    }
   },
   "cell_type": "code",
   "source": [
    "train_and_test_model(subset_train_loader)"
   ],
   "id": "b6b7ad8ca85feb3c",
   "outputs": [
    {
     "name": "stdout",
     "output_type": "stream",
     "text": [
      "Train Epoch: 1 [0/500 (0%)]\tLoss: 2.320251\n",
      "Train Epoch: 1 [320/500 (62%)]\tLoss: 0.201338\n",
      "\n",
      "Test set: Average loss: 5.8653, Accuracy: 1120/10000 (11%)\n",
      "\n",
      "Train Epoch: 2 [0/500 (0%)]\tLoss: 2.673950\n",
      "Train Epoch: 2 [320/500 (62%)]\tLoss: 0.077322\n",
      "\n",
      "Test set: Average loss: 2.7862, Accuracy: 3257/10000 (33%)\n",
      "\n",
      "Train Epoch: 3 [0/500 (0%)]\tLoss: 0.939399\n",
      "Train Epoch: 3 [320/500 (62%)]\tLoss: 0.157295\n",
      "\n",
      "Test set: Average loss: 2.2571, Accuracy: 3900/10000 (39%)\n",
      "\n",
      "Train Epoch: 4 [0/500 (0%)]\tLoss: 0.519534\n",
      "Train Epoch: 4 [320/500 (62%)]\tLoss: 0.511200\n",
      "\n",
      "Test set: Average loss: 1.7154, Accuracy: 4684/10000 (47%)\n",
      "\n",
      "Train Epoch: 5 [0/500 (0%)]\tLoss: 0.417082\n",
      "Train Epoch: 5 [320/500 (62%)]\tLoss: 0.301758\n",
      "\n",
      "Test set: Average loss: 1.1397, Accuracy: 5879/10000 (59%)\n",
      "\n",
      "Train Epoch: 6 [0/500 (0%)]\tLoss: 0.270139\n",
      "Train Epoch: 6 [320/500 (62%)]\tLoss: 0.103485\n",
      "\n",
      "Test set: Average loss: 0.8678, Accuracy: 6716/10000 (67%)\n",
      "\n",
      "Train Epoch: 7 [0/500 (0%)]\tLoss: 0.181192\n",
      "Train Epoch: 7 [320/500 (62%)]\tLoss: 0.036813\n",
      "\n",
      "Test set: Average loss: 0.6582, Accuracy: 7436/10000 (74%)\n",
      "\n",
      "Train Epoch: 8 [0/500 (0%)]\tLoss: 0.088438\n",
      "Train Epoch: 8 [320/500 (62%)]\tLoss: 0.155432\n",
      "\n",
      "Test set: Average loss: 0.4996, Accuracy: 8187/10000 (82%)\n",
      "\n",
      "Train Epoch: 9 [0/500 (0%)]\tLoss: 0.290635\n",
      "Train Epoch: 9 [320/500 (62%)]\tLoss: 0.042609\n",
      "\n",
      "Test set: Average loss: 0.4191, Accuracy: 8613/10000 (86%)\n",
      "\n",
      "Train Epoch: 10 [0/500 (0%)]\tLoss: 0.237683\n",
      "Train Epoch: 10 [320/500 (62%)]\tLoss: 0.074968\n",
      "\n",
      "Test set: Average loss: 0.3912, Accuracy: 8735/10000 (87%)\n",
      "\n",
      "Train Epoch: 11 [0/500 (0%)]\tLoss: 0.305896\n",
      "Train Epoch: 11 [320/500 (62%)]\tLoss: 0.049488\n",
      "\n",
      "Test set: Average loss: 0.3514, Accuracy: 8939/10000 (89%)\n",
      "\n",
      "Train Epoch: 12 [0/500 (0%)]\tLoss: 0.107415\n",
      "Train Epoch: 12 [320/500 (62%)]\tLoss: 0.044147\n",
      "\n",
      "Test set: Average loss: 0.3372, Accuracy: 8993/10000 (90%)\n",
      "\n",
      "Train Epoch: 13 [0/500 (0%)]\tLoss: 0.062427\n",
      "Train Epoch: 13 [320/500 (62%)]\tLoss: 0.029116\n",
      "\n",
      "Test set: Average loss: 0.3301, Accuracy: 9019/10000 (90%)\n",
      "\n",
      "Train Epoch: 14 [0/500 (0%)]\tLoss: 0.057826\n",
      "Train Epoch: 14 [320/500 (62%)]\tLoss: 0.027096\n",
      "\n",
      "Test set: Average loss: 0.3225, Accuracy: 9045/10000 (90%)\n",
      "\n"
     ]
    }
   ],
   "execution_count": 693
  },
  {
   "metadata": {
    "id": "baaf28d73a4b3b34"
   },
   "cell_type": "markdown",
   "source": [
    "### Data Augmentation"
   ],
   "id": "baaf28d73a4b3b34"
  },
  {
   "metadata": {
    "colab": {
     "base_uri": "https://localhost:8080/"
    },
    "id": "6ba3ff8d7f2e0bd0",
    "outputId": "e8d663f3-292d-4733-fa89-79e7978b3216",
    "ExecuteTime": {
     "end_time": "2024-04-29T16:41:19.484631Z",
     "start_time": "2024-04-29T16:40:22.586291Z"
    }
   },
   "cell_type": "code",
   "source": [
    "from torch.utils.data import ConcatDataset\n",
    "\n",
    "augment_transform = transforms.Compose([\n",
    "    transforms.RandomResizedCrop(28, scale=(0.9, 1.1)),\n",
    "    transforms.RandomRotation(15),\n",
    "    transforms.ToTensor(),\n",
    "    transforms.Normalize((0.1307,), (0.3081,))\n",
    "])\n",
    "\n",
    "# 对子集应用数据增强\n",
    "concat_dataset = train_subset\n",
    "train_subset.dataset.transform = augment_transform\n",
    "\n",
    "for i in range(5):\n",
    "    concat_dataset = ConcatDataset([concat_dataset, train_subset])\n",
    "\n",
    "augmented_train_loader = DataLoader(concat_dataset, **train_kwargs)\n",
    "\n",
    "train_and_test_model(augmented_train_loader)"
   ],
   "id": "6ba3ff8d7f2e0bd0",
   "outputs": [
    {
     "name": "stdout",
     "output_type": "stream",
     "text": [
      "Train Epoch: 1 [0/3000 (0%)]\tLoss: 2.259689\n",
      "Train Epoch: 1 [320/3000 (11%)]\tLoss: 0.395185\n",
      "Train Epoch: 1 [640/3000 (21%)]\tLoss: 1.372069\n",
      "Train Epoch: 1 [960/3000 (32%)]\tLoss: 1.370055\n",
      "Train Epoch: 1 [1280/3000 (43%)]\tLoss: 0.089901\n",
      "Train Epoch: 1 [1600/3000 (53%)]\tLoss: 2.144985\n",
      "Train Epoch: 1 [1920/3000 (64%)]\tLoss: 0.654311\n",
      "Train Epoch: 1 [2240/3000 (74%)]\tLoss: 1.258181\n",
      "Train Epoch: 1 [2560/3000 (85%)]\tLoss: 0.220607\n",
      "Train Epoch: 1 [2880/3000 (96%)]\tLoss: 0.176391\n",
      "\n",
      "Test set: Average loss: 2.6489, Accuracy: 3560/10000 (36%)\n",
      "\n",
      "Train Epoch: 2 [0/3000 (0%)]\tLoss: 0.735388\n",
      "Train Epoch: 2 [320/3000 (11%)]\tLoss: 0.031007\n",
      "Train Epoch: 2 [640/3000 (21%)]\tLoss: 0.553623\n",
      "Train Epoch: 2 [960/3000 (32%)]\tLoss: 0.466814\n",
      "Train Epoch: 2 [1280/3000 (43%)]\tLoss: 0.175799\n",
      "Train Epoch: 2 [1600/3000 (53%)]\tLoss: 1.222876\n",
      "Train Epoch: 2 [1920/3000 (64%)]\tLoss: 0.251020\n",
      "Train Epoch: 2 [2240/3000 (74%)]\tLoss: 0.442413\n",
      "Train Epoch: 2 [2560/3000 (85%)]\tLoss: 0.024430\n",
      "Train Epoch: 2 [2880/3000 (96%)]\tLoss: 0.206750\n",
      "\n",
      "Test set: Average loss: 0.8594, Accuracy: 7330/10000 (73%)\n",
      "\n",
      "Train Epoch: 3 [0/3000 (0%)]\tLoss: 0.296812\n",
      "Train Epoch: 3 [320/3000 (11%)]\tLoss: 0.034318\n",
      "Train Epoch: 3 [640/3000 (21%)]\tLoss: 0.204268\n",
      "Train Epoch: 3 [960/3000 (32%)]\tLoss: 0.284506\n",
      "Train Epoch: 3 [1280/3000 (43%)]\tLoss: 0.073315\n",
      "Train Epoch: 3 [1600/3000 (53%)]\tLoss: 0.422171\n",
      "Train Epoch: 3 [1920/3000 (64%)]\tLoss: 0.453471\n",
      "Train Epoch: 3 [2240/3000 (74%)]\tLoss: 0.192684\n",
      "Train Epoch: 3 [2560/3000 (85%)]\tLoss: 0.023991\n",
      "Train Epoch: 3 [2880/3000 (96%)]\tLoss: 0.014116\n",
      "\n",
      "Test set: Average loss: 0.4510, Accuracy: 8385/10000 (84%)\n",
      "\n",
      "Train Epoch: 4 [0/3000 (0%)]\tLoss: 0.066775\n",
      "Train Epoch: 4 [320/3000 (11%)]\tLoss: 0.187812\n",
      "Train Epoch: 4 [640/3000 (21%)]\tLoss: 0.122954\n",
      "Train Epoch: 4 [960/3000 (32%)]\tLoss: 0.086992\n",
      "Train Epoch: 4 [1280/3000 (43%)]\tLoss: 0.068921\n",
      "Train Epoch: 4 [1600/3000 (53%)]\tLoss: 0.092658\n",
      "Train Epoch: 4 [1920/3000 (64%)]\tLoss: 0.040087\n",
      "Train Epoch: 4 [2240/3000 (74%)]\tLoss: 0.096624\n",
      "Train Epoch: 4 [2560/3000 (85%)]\tLoss: 0.015885\n",
      "Train Epoch: 4 [2880/3000 (96%)]\tLoss: 0.017051\n",
      "\n",
      "Test set: Average loss: 0.2308, Accuracy: 9292/10000 (93%)\n",
      "\n",
      "Train Epoch: 5 [0/3000 (0%)]\tLoss: 0.142534\n",
      "Train Epoch: 5 [320/3000 (11%)]\tLoss: 0.003854\n",
      "Train Epoch: 5 [640/3000 (21%)]\tLoss: 0.065595\n",
      "Train Epoch: 5 [960/3000 (32%)]\tLoss: 0.016831\n",
      "Train Epoch: 5 [1280/3000 (43%)]\tLoss: 0.002625\n",
      "Train Epoch: 5 [1600/3000 (53%)]\tLoss: 0.023098\n",
      "Train Epoch: 5 [1920/3000 (64%)]\tLoss: 0.090490\n",
      "Train Epoch: 5 [2240/3000 (74%)]\tLoss: 0.145099\n",
      "Train Epoch: 5 [2560/3000 (85%)]\tLoss: 0.023376\n",
      "Train Epoch: 5 [2880/3000 (96%)]\tLoss: 0.011057\n",
      "\n",
      "Test set: Average loss: 0.1729, Accuracy: 9509/10000 (95%)\n",
      "\n",
      "Train Epoch: 6 [0/3000 (0%)]\tLoss: 0.003917\n",
      "Train Epoch: 6 [320/3000 (11%)]\tLoss: 0.003959\n",
      "Train Epoch: 6 [640/3000 (21%)]\tLoss: 0.002777\n",
      "Train Epoch: 6 [960/3000 (32%)]\tLoss: 0.295235\n",
      "Train Epoch: 6 [1280/3000 (43%)]\tLoss: 0.069284\n",
      "Train Epoch: 6 [1600/3000 (53%)]\tLoss: 0.055522\n",
      "Train Epoch: 6 [1920/3000 (64%)]\tLoss: 0.005189\n",
      "Train Epoch: 6 [2240/3000 (74%)]\tLoss: 0.094527\n",
      "Train Epoch: 6 [2560/3000 (85%)]\tLoss: 0.000950\n",
      "Train Epoch: 6 [2880/3000 (96%)]\tLoss: 0.001336\n",
      "\n",
      "Test set: Average loss: 0.1482, Accuracy: 9580/10000 (96%)\n",
      "\n",
      "Train Epoch: 7 [0/3000 (0%)]\tLoss: 0.112799\n",
      "Train Epoch: 7 [320/3000 (11%)]\tLoss: 0.000500\n",
      "Train Epoch: 7 [640/3000 (21%)]\tLoss: 0.002906\n",
      "Train Epoch: 7 [960/3000 (32%)]\tLoss: 0.012979\n",
      "Train Epoch: 7 [1280/3000 (43%)]\tLoss: 0.010646\n",
      "Train Epoch: 7 [1600/3000 (53%)]\tLoss: 0.262024\n",
      "Train Epoch: 7 [1920/3000 (64%)]\tLoss: 0.084593\n",
      "Train Epoch: 7 [2240/3000 (74%)]\tLoss: 0.007315\n",
      "Train Epoch: 7 [2560/3000 (85%)]\tLoss: 0.068260\n",
      "Train Epoch: 7 [2880/3000 (96%)]\tLoss: 0.000307\n",
      "\n",
      "Test set: Average loss: 0.1502, Accuracy: 9595/10000 (96%)\n",
      "\n",
      "Train Epoch: 8 [0/3000 (0%)]\tLoss: 0.001729\n",
      "Train Epoch: 8 [320/3000 (11%)]\tLoss: 0.000300\n",
      "Train Epoch: 8 [640/3000 (21%)]\tLoss: 0.010132\n",
      "Train Epoch: 8 [960/3000 (32%)]\tLoss: 0.023482\n",
      "Train Epoch: 8 [1280/3000 (43%)]\tLoss: 0.007962\n",
      "Train Epoch: 8 [1600/3000 (53%)]\tLoss: 0.009883\n",
      "Train Epoch: 8 [1920/3000 (64%)]\tLoss: 0.013846\n",
      "Train Epoch: 8 [2240/3000 (74%)]\tLoss: 0.014226\n",
      "Train Epoch: 8 [2560/3000 (85%)]\tLoss: 0.002062\n",
      "Train Epoch: 8 [2880/3000 (96%)]\tLoss: 0.001466\n",
      "\n",
      "Test set: Average loss: 0.1476, Accuracy: 9603/10000 (96%)\n",
      "\n",
      "Train Epoch: 9 [0/3000 (0%)]\tLoss: 0.001554\n",
      "Train Epoch: 9 [320/3000 (11%)]\tLoss: 0.197483\n",
      "Train Epoch: 9 [640/3000 (21%)]\tLoss: 0.004996\n",
      "Train Epoch: 9 [960/3000 (32%)]\tLoss: 0.008481\n",
      "Train Epoch: 9 [1280/3000 (43%)]\tLoss: 0.089076\n",
      "Train Epoch: 9 [1600/3000 (53%)]\tLoss: 0.018158\n",
      "Train Epoch: 9 [1920/3000 (64%)]\tLoss: 0.005047\n",
      "Train Epoch: 9 [2240/3000 (74%)]\tLoss: 0.015530\n",
      "Train Epoch: 9 [2560/3000 (85%)]\tLoss: 0.119992\n",
      "Train Epoch: 9 [2880/3000 (96%)]\tLoss: 0.001702\n",
      "\n",
      "Test set: Average loss: 0.1446, Accuracy: 9603/10000 (96%)\n",
      "\n",
      "Train Epoch: 10 [0/3000 (0%)]\tLoss: 0.003074\n",
      "Train Epoch: 10 [320/3000 (11%)]\tLoss: 0.002036\n",
      "Train Epoch: 10 [640/3000 (21%)]\tLoss: 0.002040\n",
      "Train Epoch: 10 [960/3000 (32%)]\tLoss: 0.017076\n",
      "Train Epoch: 10 [1280/3000 (43%)]\tLoss: 0.002203\n",
      "Train Epoch: 10 [1600/3000 (53%)]\tLoss: 0.106534\n",
      "Train Epoch: 10 [1920/3000 (64%)]\tLoss: 0.045366\n",
      "Train Epoch: 10 [2240/3000 (74%)]\tLoss: 0.033709\n",
      "Train Epoch: 10 [2560/3000 (85%)]\tLoss: 0.007247\n",
      "Train Epoch: 10 [2880/3000 (96%)]\tLoss: 0.000302\n",
      "\n",
      "Test set: Average loss: 0.1410, Accuracy: 9625/10000 (96%)\n",
      "\n",
      "Train Epoch: 11 [0/3000 (0%)]\tLoss: 0.003132\n",
      "Train Epoch: 11 [320/3000 (11%)]\tLoss: 0.000147\n",
      "Train Epoch: 11 [640/3000 (21%)]\tLoss: 0.010847\n",
      "Train Epoch: 11 [960/3000 (32%)]\tLoss: 0.008209\n",
      "Train Epoch: 11 [1280/3000 (43%)]\tLoss: 0.010357\n",
      "Train Epoch: 11 [1600/3000 (53%)]\tLoss: 0.001926\n",
      "Train Epoch: 11 [1920/3000 (64%)]\tLoss: 0.057983\n",
      "Train Epoch: 11 [2240/3000 (74%)]\tLoss: 0.064532\n",
      "Train Epoch: 11 [2560/3000 (85%)]\tLoss: 0.001072\n",
      "Train Epoch: 11 [2880/3000 (96%)]\tLoss: 0.001281\n",
      "\n",
      "Test set: Average loss: 0.1412, Accuracy: 9625/10000 (96%)\n",
      "\n",
      "Train Epoch: 12 [0/3000 (0%)]\tLoss: 0.008485\n",
      "Train Epoch: 12 [320/3000 (11%)]\tLoss: 0.000542\n",
      "Train Epoch: 12 [640/3000 (21%)]\tLoss: 0.003514\n",
      "Train Epoch: 12 [960/3000 (32%)]\tLoss: 0.008475\n",
      "Train Epoch: 12 [1280/3000 (43%)]\tLoss: 0.010313\n",
      "Train Epoch: 12 [1600/3000 (53%)]\tLoss: 0.015500\n",
      "Train Epoch: 12 [1920/3000 (64%)]\tLoss: 0.003838\n",
      "Train Epoch: 12 [2240/3000 (74%)]\tLoss: 0.003586\n",
      "Train Epoch: 12 [2560/3000 (85%)]\tLoss: 0.004261\n",
      "Train Epoch: 12 [2880/3000 (96%)]\tLoss: 0.002256\n",
      "\n",
      "Test set: Average loss: 0.1416, Accuracy: 9624/10000 (96%)\n",
      "\n",
      "Train Epoch: 13 [0/3000 (0%)]\tLoss: 0.004913\n",
      "Train Epoch: 13 [320/3000 (11%)]\tLoss: 0.000154\n",
      "Train Epoch: 13 [640/3000 (21%)]\tLoss: 0.054185\n",
      "Train Epoch: 13 [960/3000 (32%)]\tLoss: 0.001051\n",
      "Train Epoch: 13 [1280/3000 (43%)]\tLoss: 0.007432\n",
      "Train Epoch: 13 [1600/3000 (53%)]\tLoss: 0.067161\n",
      "Train Epoch: 13 [1920/3000 (64%)]\tLoss: 0.032595\n",
      "Train Epoch: 13 [2240/3000 (74%)]\tLoss: 0.013049\n",
      "Train Epoch: 13 [2560/3000 (85%)]\tLoss: 0.003425\n",
      "Train Epoch: 13 [2880/3000 (96%)]\tLoss: 0.014058\n",
      "\n",
      "Test set: Average loss: 0.1424, Accuracy: 9620/10000 (96%)\n",
      "\n",
      "Train Epoch: 14 [0/3000 (0%)]\tLoss: 0.004677\n",
      "Train Epoch: 14 [320/3000 (11%)]\tLoss: 0.004918\n",
      "Train Epoch: 14 [640/3000 (21%)]\tLoss: 0.035756\n",
      "Train Epoch: 14 [960/3000 (32%)]\tLoss: 0.009320\n",
      "Train Epoch: 14 [1280/3000 (43%)]\tLoss: 0.001424\n",
      "Train Epoch: 14 [1600/3000 (53%)]\tLoss: 0.012308\n",
      "Train Epoch: 14 [1920/3000 (64%)]\tLoss: 0.010622\n",
      "Train Epoch: 14 [2240/3000 (74%)]\tLoss: 0.011457\n",
      "Train Epoch: 14 [2560/3000 (85%)]\tLoss: 0.000914\n",
      "Train Epoch: 14 [2880/3000 (96%)]\tLoss: 0.002569\n",
      "\n",
      "Test set: Average loss: 0.1424, Accuracy: 9625/10000 (96%)\n",
      "\n"
     ]
    }
   ],
   "execution_count": 694
  }
 ],
 "metadata": {
  "kernelspec": {
   "display_name": "Python 3 (ipykernel)",
   "name": "python3",
   "language": "python"
  },
  "language_info": {
   "codemirror_mode": {
    "name": "ipython",
    "version": 2
   },
   "file_extension": ".py",
   "mimetype": "text/x-python",
   "name": "python",
   "nbconvert_exporter": "python",
   "pygments_lexer": "ipython2",
   "version": "2.7.6"
  },
  "colab": {
   "provenance": [],
   "gpuType": "T4"
  },
  "accelerator": "GPU"
 },
 "nbformat": 4,
 "nbformat_minor": 5
}
